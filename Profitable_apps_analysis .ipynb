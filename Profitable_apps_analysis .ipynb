{
 "cells": [
  {
   "cell_type": "markdown",
   "metadata": {},
   "source": [
    "## Strategic free apps analysis from ads profit approach\n",
    "\n",
    "\n",
    "In this report, we'll analysis and explain datasets to help companies or anyone that works with apps building. In particular, the datasets that wil be analised are **Mobile Apps Stores - Apple** (https://www.kaggle.com/ramamet4/app-store-apple-data-set-10k-apps) and **Google Play Store Apps**(https://www.kaggle.com/lava18/google-play-store-apps), two tables from june, 2018. Our goal is explain more about free apps for occidental Audience, that to use ads as revenue source.   \n",
    "\n",
    "We'll initiate with a quick approach how to explore these datasets; going through to find and fix data inconsistencies such as writing erros and duplicate entries. Lastly, we'll see how to conceive basic build strategies and parameters to decision making related to apps building.     \n",
    "\n",
    "We hope that you enjoy this!\n",
    "\n",
    "For any questions, suggestions or corrections, send me a mail or message that I'll answer with pleasure!\n",
    "\n",
    "**e-mail:** osmancesar.mr@gmail.com\n",
    "\n",
    "\n",
    "**linkedin:** https://www.linkedin.com/in/osman-rodrigues/"
   ]
  },
  {
   "cell_type": "markdown",
   "metadata": {},
   "source": [
    "### 1. Oppening and Fast Checking files and datasets\n",
    "\n",
    "The first step we should do is open datasets files and check its first rows and columns. It's allow us to verify which data type of informations we lead.   "
   ]
  },
  {
   "cell_type": "code",
   "execution_count": 91,
   "metadata": {},
   "outputs": [
    {
     "name": "stdout",
     "output_type": "stream",
     "text": [
      "First rows of Apple Store Apps: \n",
      " [['id', 'track_name', 'size_bytes', 'currency', 'price', 'rating_count_tot', 'rating_count_ver', 'user_rating', 'user_rating_ver', 'ver', 'cont_rating', 'prime_genre', 'sup_devices.num', 'ipadSc_urls.num', 'lang.num', 'vpp_lic'], ['284882215', 'Facebook', '389879808', 'USD', '0.0', '2974676', '212', '3.5', '3.5', '95.0', '4+', 'Social Networking', '37', '1', '29', '1'], ['389801252', 'Instagram', '113954816', 'USD', '0.0', '2161558', '1289', '4.5', '4.0', '10.23', '12+', 'Photo & Video', '37', '0', '29', '1']]\n",
      "First rows of Google Store Apps: \n",
      " [['App', 'Category', 'Rating', 'Reviews', 'Size', 'Installs', 'Type', 'Price', 'Content Rating', 'Genres', 'Last Updated', 'Current Ver', 'Android Ver'], ['Photo Editor & Candy Camera & Grid & ScrapBook', 'ART_AND_DESIGN', '4.1', '159', '19M', '10,000+', 'Free', '0', 'Everyone', 'Art & Design', 'January 7, 2018', '1.0.0', '4.0.3 and up'], ['Coloring book moana', 'ART_AND_DESIGN', '3.9', '967', '14M', '500,000+', 'Free', '0', 'Everyone', 'Art & Design;Pretend Play', 'January 15, 2018', '2.0.0', '4.0.3 and up']]\n"
     ]
    }
   ],
   "source": [
    "#to export and open dataset files\n",
    "\n",
    "opened_file_apple = open('AppleStore.csv', encoding=\"utf8\")\n",
    "opened_file_google = open('googleplaystore.csv', encoding=\"utf8\")\n",
    "from csv import reader\n",
    "read_file_apple = reader(opened_file_apple)\n",
    "read_file_google = reader(opened_file_google)\n",
    "apps_data_apple = list(read_file_apple)\n",
    "apps_data_google = list(read_file_google)\n",
    "\n",
    "\n",
    "print('First rows of Apple Store Apps:',('\\n'),apps_data_apple[:3])\n",
    "('\\n')\n",
    "print('First rows of Google Store Apps:',('\\n'),apps_data_google[:3])\n"
   ]
  },
  {
   "cell_type": "markdown",
   "metadata": {},
   "source": [
    "### 2. Searching, idetifying and removing wrong entries\n",
    "\n",
    "After choosing the datasets above, we took a quick read in Kaggle forum to find possibles questions about how clean these datasets are. After that, we saw a incosistency in 'Reviews' column of Google Store Apps table.     "
   ]
  },
  {
   "cell_type": "code",
   "execution_count": 92,
   "metadata": {},
   "outputs": [
    {
     "name": "stdout",
     "output_type": "stream",
     "text": [
      "['Life Made WI-Fi Touchscreen Photo Frame', '1.9', '19', '3.0M', '1,000+', 'Free', '0', 'Everyone', '', 'February 11, 2018', '1.0.19', '4.0 and up']\n",
      "['Life Made WI-Fi Touchscreen Photo Frame', '1.9', '19', '3.0M', '1,000+', 'Free', '0', 'Everyone', '', 'February 11, 2018', '1.0.19', '4.0 and up']\n",
      "10473\n"
     ]
    }
   ],
   "source": [
    "#wrong entry identified position after pre analysis in forum\n",
    "\n",
    "data_slice = apps_data_google[10473]\n",
    "print (data_slice)\n",
    "\n",
    "#search and confirm wrong data statement \n",
    "\n",
    "for row in apps_data_google:\n",
    "    if len(row) != len(apps_data_google[0]):\n",
    "        print(row)\n",
    "        print(apps_data_google.index(row))"
   ]
  },
  {
   "cell_type": "code",
   "execution_count": 93,
   "metadata": {},
   "outputs": [],
   "source": [
    "#removing wrong data\n",
    "\n",
    "del apps_data_google[10473]"
   ]
  },
  {
   "cell_type": "markdown",
   "metadata": {},
   "source": [
    "### 3. Exploring the datasets\n",
    "\n",
    "To more specific analyse and measure of these datasets, we can use the function below in which the input sequence is dataset, start row, end row and the conditional statement.     "
   ]
  },
  {
   "cell_type": "code",
   "execution_count": 94,
   "metadata": {},
   "outputs": [
    {
     "name": "stdout",
     "output_type": "stream",
     "text": [
      "['id', 'track_name', 'size_bytes', 'currency', 'price', 'rating_count_tot', 'rating_count_ver', 'user_rating', 'user_rating_ver', 'ver', 'cont_rating', 'prime_genre', 'sup_devices.num', 'ipadSc_urls.num', 'lang.num', 'vpp_lic']\n",
      "\n",
      "\n",
      "Number of rows: 7198\n",
      "Number of columns: 16\n",
      "\n",
      "\n",
      "['App', 'Category', 'Rating', 'Reviews', 'Size', 'Installs', 'Type', 'Price', 'Content Rating', 'Genres', 'Last Updated', 'Current Ver', 'Android Ver']\n",
      "\n",
      "\n",
      "Number of rows: 10841\n",
      "Number of columns: 13\n"
     ]
    }
   ],
   "source": [
    "#explore_dataset_function\n",
    "def explore_data(dataset, start, end, rows_and_columns=False):\n",
    "    dataset_slice = dataset[start:end]    \n",
    "    for row in dataset_slice:\n",
    "        print(row)\n",
    "        print('\\n') # adds a new (empty) line after each row\n",
    "\n",
    "    if rows_and_columns:\n",
    "        print('Number of rows:', len(dataset))\n",
    "        print('Number of columns:', len(dataset[0]))\n",
    "        \n",
    "explore_data(apps_data_apple, 0, 1, apps_data_apple[:1])\n",
    "print('\\n')\n",
    "explore_data(apps_data_google, 0, 1, apps_data_google[:1])"
   ]
  },
  {
   "cell_type": "markdown",
   "metadata": {},
   "source": [
    "### 4. Searching, cleaning and separate duplicated for non-duplicated entries\n",
    "\n",
    "Is common that large datasets have duplicated entries. But, to remove them, we need a careful analyse to find parameteres that allow us for a correctly removing. Below, some steps to help us in searching, confirm and removing duplicate entries. "
   ]
  },
  {
   "cell_type": "code",
   "execution_count": 95,
   "metadata": {
    "scrolled": false
   },
   "outputs": [
    {
     "name": "stdout",
     "output_type": "stream",
     "text": [
      "['Instagram', 'SOCIAL', '4.5', '66577313', 'Varies with device', '1,000,000,000+', 'Free', '0', 'Teen', 'Social', 'July 31, 2018', 'Varies with device', 'Varies with device']\n",
      "['Instagram', 'SOCIAL', '4.5', '66577446', 'Varies with device', '1,000,000,000+', 'Free', '0', 'Teen', 'Social', 'July 31, 2018', 'Varies with device', 'Varies with device']\n",
      "['Instagram', 'SOCIAL', '4.5', '66577313', 'Varies with device', '1,000,000,000+', 'Free', '0', 'Teen', 'Social', 'July 31, 2018', 'Varies with device', 'Varies with device']\n",
      "['Instagram', 'SOCIAL', '4.5', '66509917', 'Varies with device', '1,000,000,000+', 'Free', '0', 'Teen', 'Social', 'July 31, 2018', 'Varies with device', 'Varies with device']\n"
     ]
    }
   ],
   "source": [
    "#Until here, we've been cleaning up these datasets. \n",
    "#Now, we clear the duplicate entries of Android dataset.\n",
    "#For instance, we print fews Instagram entries to see that \n",
    "#duplicate facts occurs:\n",
    "\n",
    "for  app in apps_data_google:\n",
    "    name = app[0]\n",
    "    if name == 'Instagram':\n",
    "        print(app)"
   ]
  },
  {
   "cell_type": "code",
   "execution_count": 96,
   "metadata": {},
   "outputs": [
    {
     "name": "stdout",
     "output_type": "stream",
     "text": [
      "Number of duplicate Android apps:  1181\n",
      "\n",
      "\n",
      "Example of duplicate Android apps:  ['Quick PDF Scanner + OCR FREE', 'Box', 'Google My Business', 'ZOOM Cloud Meetings', 'join.me - Simple Meetings', 'Box', 'Zenefits', 'Google Ads', 'Google My Business', 'Slack']\n",
      "\n",
      "\n",
      "Number of duplicate iOS apps:  2\n",
      "\n",
      "\n",
      "Example of duplicate iOS apps:  ['Mannequin Challenge', 'VR Roller Coaster']\n"
     ]
    }
   ],
   "source": [
    "#To count the number of occurrences, we can use this code below:\n",
    "\n",
    "duplicate_g_apps = []\n",
    "unique_g_apps = []\n",
    "\n",
    "for g_app in apps_data_google:\n",
    "    g_name = g_app[0]\n",
    "    if g_name in unique_g_apps:\n",
    "        duplicate_g_apps.append(g_name)\n",
    "    else:\n",
    "        unique_g_apps.append(g_name)\n",
    "            \n",
    "duplicate_a_apps = []\n",
    "unique_a_apps = []\n",
    "\n",
    "for a_app in apps_data_apple:\n",
    "    a_name = a_app[1]\n",
    "    if a_name in unique_a_apps:\n",
    "        duplicate_a_apps.append(a_name)\n",
    "    else:\n",
    "        unique_a_apps.append(a_name)\n",
    "            \n",
    "print('Number of duplicate Android apps: ', len(duplicate_g_apps))\n",
    "print('\\n')\n",
    "print('Example of duplicate Android apps: ', duplicate_g_apps[:10])\n",
    "print('\\n')\n",
    "print('Number of duplicate iOS apps: ', len(duplicate_a_apps))\n",
    "print('\\n')\n",
    "print('Example of duplicate iOS apps: ', duplicate_a_apps[:10])\n",
    "\n",
    "#So that we didn't equivocate randomly remove duplicate data,\n",
    "#we can observe unique parameteres in the same row associeted \n",
    "#to the duplicate app entries. For example the number of reviews\n",
    "#of these app."
   ]
  },
  {
   "cell_type": "code",
   "execution_count": 97,
   "metadata": {},
   "outputs": [
    {
     "name": "stdout",
     "output_type": "stream",
     "text": [
      "Nº of Cleaned Google Play Store Apps:  9659\n",
      "Nº of Cleaned Apple Store Apps:  7195\n"
     ]
    }
   ],
   "source": [
    "#creating a dictionary to store non-duplicate entries:\n",
    "\n",
    "reviews_g_max = {}\n",
    "for g_app in apps_data_google[1:]:\n",
    "    g_name = g_app[0]\n",
    "    g_n_reviews = float(g_app[3])\n",
    "    \n",
    "    if g_name in reviews_g_max and reviews_g_max[g_name] < g_n_reviews:\n",
    "        reviews_g_max[g_name] = g_n_reviews\n",
    "        \n",
    "    elif g_name not in reviews_g_max:\n",
    "        reviews_g_max[g_name] = g_n_reviews\n",
    "        \n",
    "reviews_a_max = {}\n",
    "for a_app in apps_data_apple[1:]:\n",
    "    a_name = a_app[1]\n",
    "    a_n_reviews = float(a_app[5])\n",
    "    \n",
    "    if a_name in reviews_a_max and reviews_a_max[a_name] < a_n_reviews:\n",
    "        reviews_a_max[a_name] = a_n_reviews\n",
    "\n",
    "        \n",
    "    elif a_name not in reviews_a_max:\n",
    "        reviews_a_max[a_name] = a_n_reviews\n",
    "        \n",
    "print('Nº of Cleaned Google Play Store Apps: ', len(reviews_g_max))\n",
    "print('Nº of Cleaned Apple Store Apps: ', len(reviews_a_max))"
   ]
  },
  {
   "cell_type": "code",
   "execution_count": 98,
   "metadata": {
    "scrolled": true
   },
   "outputs": [
    {
     "name": "stdout",
     "output_type": "stream",
     "text": [
      "Nº of Cleaned Google Play Store Apps:  9659\n",
      "[['Photo Editor & Candy Camera & Grid & ScrapBook', 'ART_AND_DESIGN', '4.1', '159', '19M', '10,000+', 'Free', '0', 'Everyone', 'Art & Design', 'January 7, 2018', '1.0.0', '4.0.3 and up'], ['U Launcher Lite – FREE Live Cool Themes, Hide Apps', 'ART_AND_DESIGN', '4.7', '87510', '8.7M', '5,000,000+', 'Free', '0', 'Everyone', 'Art & Design', 'August 1, 2018', '1.2.4', '4.0.3 and up']]\n",
      "Nº of Cleaned Apple Store Apps:  7195\n",
      "[['284882215', 'Facebook', '389879808', 'USD', '0.0', '2974676', '212', '3.5', '3.5', '95.0', '4+', 'Social Networking', '37', '1', '29', '1'], ['389801252', 'Instagram', '113954816', 'USD', '0.0', '2161558', '1289', '4.5', '4.0', '10.23', '12+', 'Photo & Video', '37', '0', '29', '1']]\n"
     ]
    }
   ],
   "source": [
    "#to remove the duplicate rows using the dictonary in technic above:\n",
    "\n",
    "#1. creat a list to store clening apps\n",
    "google_clean = [] \n",
    "g_already_added = []\n",
    "\n",
    "#2. loop through the data sets \n",
    "for g_app in apps_data_google[1:]:\n",
    "    g_name = g_app[0]\n",
    "    g_n_reviews = float(g_app[3])\n",
    "\n",
    "#3. compare row to row and separate singular and already appened entries  \n",
    "    if (g_n_reviews == reviews_g_max[g_name]) and (g_name not in g_already_added):\n",
    "        google_clean.append(g_app)\n",
    "        g_already_added.append(g_name)\n",
    "\n",
    "#4. do the same steps to both datasets        \n",
    "apple_clean = []\n",
    "a_already_added = []\n",
    "\n",
    "for a_app in apps_data_apple[1:]:\n",
    "    a_name = a_app[1]\n",
    "    a_n_reviews = float(a_app[5])\n",
    "    \n",
    "    if (a_n_reviews == reviews_a_max[a_name]) and (a_name not in a_already_added):\n",
    "        apple_clean.append(a_app)\n",
    "        a_already_added.append(a_name)\n",
    "        \n",
    "#5. check the cleaning datasets to confirm the work done\n",
    "        \n",
    "print('Nº of Cleaned Google Play Store Apps: ', len(google_clean))\n",
    "print(google_clean[:2])\n",
    "\n",
    "print('Nº of Cleaned Apple Store Apps: ', len(apple_clean))\n",
    "print(apple_clean[:2])\n"
   ]
  },
  {
   "cell_type": "markdown",
   "metadata": {},
   "source": [
    "### 5. Entries validation\n",
    "\n",
    "To reach the goals of this analysis, we need to validate the target Audience of each apps these datasets through the basic language used. Its means that, if the app be wrote in non-english character, it must be removed from our analysis. Another pattern is around the free apps, as stated in principle.      "
   ]
  },
  {
   "cell_type": "code",
   "execution_count": 99,
   "metadata": {},
   "outputs": [
    {
     "name": "stdout",
     "output_type": "stream",
     "text": [
      "False\n",
      "True\n",
      "True\n"
     ]
    }
   ],
   "source": [
    "#using a common english character validation function\n",
    "\n",
    "def char_valid(string):\n",
    "    n_checks = 0\n",
    "    for character in string:\n",
    "        if ord(character) > 127:\n",
    "            n_checks += 1\n",
    "            if n_checks > 3:\n",
    "                return False\n",
    "       \n",
    "    return True\n",
    "\n",
    "#testing the function\n",
    "\n",
    "check_1 = print(char_valid('爱奇艺PPS -《欢乐颂2》电视剧热播'))\n",
    "check_2= print(char_valid('Docs To Go™ Free Office Suite'))\n",
    "check_3 = print(char_valid('Instachat 😜'))\n",
    "\n"
   ]
  },
  {
   "cell_type": "code",
   "execution_count": 100,
   "metadata": {
    "scrolled": false
   },
   "outputs": [
    {
     "name": "stdout",
     "output_type": "stream",
     "text": [
      "['Photo Editor & Candy Camera & Grid & ScrapBook', 'ART_AND_DESIGN', '4.1', '159', '19M', '10,000+', 'Free', '0', 'Everyone', 'Art & Design', 'January 7, 2018', '1.0.0', '4.0.3 and up']\n",
      "\n",
      "\n",
      "['U Launcher Lite – FREE Live Cool Themes, Hide Apps', 'ART_AND_DESIGN', '4.7', '87510', '8.7M', '5,000,000+', 'Free', '0', 'Everyone', 'Art & Design', 'August 1, 2018', '1.2.4', '4.0.3 and up']\n",
      "\n",
      "\n",
      "['Sketch - Draw & Paint', 'ART_AND_DESIGN', '4.5', '215644', '25M', '50,000,000+', 'Free', '0', 'Teen', 'Art & Design', 'June 8, 2018', 'Varies with device', '4.2 and up']\n",
      "\n",
      "\n",
      "Number of rows: 9614\n",
      "Number of columns: 13\n",
      "\n",
      "\n",
      "['284882215', 'Facebook', '389879808', 'USD', '0.0', '2974676', '212', '3.5', '3.5', '95.0', '4+', 'Social Networking', '37', '1', '29', '1']\n",
      "\n",
      "\n",
      "['389801252', 'Instagram', '113954816', 'USD', '0.0', '2161558', '1289', '4.5', '4.0', '10.23', '12+', 'Photo & Video', '37', '0', '29', '1']\n",
      "\n",
      "\n",
      "['529479190', 'Clash of Clans', '116476928', 'USD', '0.0', '2130805', '579', '4.5', '4.5', '9.24.12', '9+', 'Games', '38', '5', '18', '1']\n",
      "\n",
      "\n",
      "Number of rows: 6181\n",
      "Number of columns: 16\n"
     ]
    }
   ],
   "source": [
    "#applying the character validation function on the android and apple datasets\n",
    "\n",
    "g_apps_english = []\n",
    "a_apps_english = []\n",
    "\n",
    "for g_app in google_clean:\n",
    "    g_name = g_app[0]\n",
    "    if char_valid(g_name):\n",
    "        g_apps_english.append(g_app)\n",
    "\n",
    "for a_app in apple_clean:\n",
    "    a_name = a_app[1]\n",
    "    if char_valid(a_name):\n",
    "        a_apps_english.append(a_app)\n",
    "\n",
    "#checking results        \n",
    "        \n",
    "explore_data(g_apps_english, 0, 3, True)\n",
    "print('\\n')\n",
    "explore_data(a_apps_english, 0, 3, True)"
   ]
  },
  {
   "cell_type": "code",
   "execution_count": 101,
   "metadata": {},
   "outputs": [
    {
     "name": "stdout",
     "output_type": "stream",
     "text": [
      "Nº of Free Apps of Google Play Store:  8864\n",
      "Nº of Free Apps of Apple Store:  3220\n"
     ]
    }
   ],
   "source": [
    "#collecting free apps\n",
    "\n",
    "g_apps_free = []\n",
    "\n",
    "for g_row in g_apps_english:\n",
    "    g_price = g_row[7]\n",
    "    if g_price == '0':\n",
    "        g_apps_free.append(g_row)\n",
    "        \n",
    "a_apps_free = []\n",
    "\n",
    "for a_row in a_apps_english:\n",
    "    a_price = a_row[4]\n",
    "    if a_price == '0.0':\n",
    "        a_apps_free.append(a_row)\n",
    "\n",
    "print('Nº of Free Apps of Google Play Store: ', len(g_apps_free))\n",
    "print('Nº of Free Apps of Apple Store: ',len(a_apps_free))"
   ]
  },
  {
   "cell_type": "markdown",
   "metadata": {},
   "source": [
    "### 6. Build Strategy \n",
    "\n",
    "Until here, the steps which we did was for turn the datasets more clear and focused in english free user apps to use ads as revenue source. \n",
    "\n",
    "The next aim is to inspect the most common genres of apps of determined market. Thus, we need to build a frequency tables to direct us around the most attractive genres.\n",
    "\n",
    "Columns to collect apps genres information:\n",
    "\n",
    "**Google Play Store dataset - Index 9 and 1**\n",
    "\n",
    "**Apple Store dataset - Index 11**"
   ]
  },
  {
   "cell_type": "code",
   "execution_count": 102,
   "metadata": {},
   "outputs": [
    {
     "name": "stdout",
     "output_type": "stream",
     "text": [
      "-iOS Apps Common Genres-\n",
      "\n",
      "\n",
      "Games : 58.13664596273293\n",
      "Entertainment : 7.888198757763975\n",
      "Photo & Video : 4.968944099378882\n",
      "Education : 3.6645962732919255\n",
      "Social Networking : 3.260869565217391\n",
      "Shopping : 2.608695652173913\n",
      "Utilities : 2.515527950310559\n",
      "Sports : 2.142857142857143\n",
      "Music : 2.049689440993789\n",
      "Health & Fitness : 2.018633540372671\n",
      "Productivity : 1.7391304347826086\n",
      "Lifestyle : 1.5838509316770186\n",
      "News : 1.3354037267080745\n",
      "Travel : 1.2422360248447204\n",
      "Finance : 1.1180124223602486\n",
      "Weather : 0.8695652173913043\n",
      "Food & Drink : 0.8074534161490683\n",
      "Reference : 0.5590062111801243\n",
      "Business : 0.5279503105590062\n",
      "Book : 0.43478260869565216\n",
      "Navigation : 0.18633540372670807\n",
      "Medical : 0.18633540372670807\n",
      "Catalogs : 0.12422360248447205\n",
      "\n",
      "\n",
      "-Android Apps Common Genres-\n",
      "\n",
      "\n",
      "Tools : 8.449909747292418\n",
      "Entertainment : 6.069494584837545\n",
      "Education : 5.347472924187725\n",
      "Business : 4.591606498194946\n",
      "Productivity : 3.892148014440433\n",
      "Lifestyle : 3.892148014440433\n",
      "Finance : 3.7003610108303246\n",
      "Medical : 3.531137184115524\n",
      "Sports : 3.463447653429603\n",
      "Personalization : 3.3167870036101084\n",
      "Communication : 3.2378158844765346\n",
      "Action : 3.1024368231046933\n",
      "Health & Fitness : 3.0798736462093865\n",
      "Photography : 2.944494584837545\n",
      "News & Magazines : 2.7978339350180503\n",
      "Social : 2.6624548736462095\n",
      "Travel & Local : 2.3240072202166067\n",
      "Shopping : 2.2450361010830324\n",
      "Books & Reference : 2.1435018050541514\n",
      "Simulation : 2.0419675090252705\n",
      "Dating : 1.861462093862816\n",
      "Arcade : 1.8501805054151623\n",
      "Video Players & Editors : 1.7712093862815883\n",
      "Casual : 1.7599277978339352\n",
      "Maps & Navigation : 1.3989169675090252\n",
      "Food & Drink : 1.2409747292418771\n",
      "Puzzle : 1.128158844765343\n",
      "Racing : 0.9927797833935018\n",
      "Role Playing : 0.9363718411552346\n",
      "Libraries & Demo : 0.9363718411552346\n",
      "Auto & Vehicles : 0.9250902527075812\n",
      "Strategy : 0.9138086642599278\n",
      "House & Home : 0.8235559566787004\n",
      "Weather : 0.8009927797833934\n",
      "Events : 0.7107400722021661\n",
      "Adventure : 0.6768953068592057\n",
      "Comics : 0.6092057761732852\n",
      "Beauty : 0.5979241877256317\n",
      "Art & Design : 0.5866425992779783\n",
      "Parenting : 0.4963898916967509\n",
      "Card : 0.45126353790613716\n",
      "Casino : 0.42870036101083037\n",
      "Trivia : 0.41741877256317694\n",
      "Educational;Education : 0.39485559566787\n",
      "Board : 0.3835740072202166\n",
      "Educational : 0.3722924187725632\n",
      "Education;Education : 0.33844765342960287\n",
      "Word : 0.2594765342960289\n",
      "Casual;Pretend Play : 0.236913357400722\n",
      "Music : 0.2030685920577617\n",
      "Racing;Action & Adventure : 0.16922382671480143\n",
      "Puzzle;Brain Games : 0.16922382671480143\n",
      "Entertainment;Music & Video : 0.16922382671480143\n",
      "Casual;Brain Games : 0.13537906137184114\n",
      "Casual;Action & Adventure : 0.13537906137184114\n",
      "Arcade;Action & Adventure : 0.12409747292418773\n",
      "Action;Action & Adventure : 0.10153429602888085\n",
      "Educational;Pretend Play : 0.09025270758122744\n",
      "Simulation;Action & Adventure : 0.078971119133574\n",
      "Parenting;Education : 0.078971119133574\n",
      "Entertainment;Brain Games : 0.078971119133574\n",
      "Board;Brain Games : 0.078971119133574\n",
      "Parenting;Music & Video : 0.06768953068592057\n",
      "Educational;Brain Games : 0.06768953068592057\n",
      "Casual;Creativity : 0.06768953068592057\n",
      "Art & Design;Creativity : 0.06768953068592057\n",
      "Education;Pretend Play : 0.056407942238267145\n",
      "Role Playing;Pretend Play : 0.04512635379061372\n",
      "Education;Creativity : 0.04512635379061372\n",
      "Role Playing;Action & Adventure : 0.033844765342960284\n",
      "Puzzle;Action & Adventure : 0.033844765342960284\n",
      "Entertainment;Creativity : 0.033844765342960284\n",
      "Entertainment;Action & Adventure : 0.033844765342960284\n",
      "Educational;Creativity : 0.033844765342960284\n",
      "Educational;Action & Adventure : 0.033844765342960284\n",
      "Education;Music & Video : 0.033844765342960284\n",
      "Education;Brain Games : 0.033844765342960284\n",
      "Education;Action & Adventure : 0.033844765342960284\n",
      "Adventure;Action & Adventure : 0.033844765342960284\n",
      "Video Players & Editors;Music & Video : 0.02256317689530686\n",
      "Sports;Action & Adventure : 0.02256317689530686\n",
      "Simulation;Pretend Play : 0.02256317689530686\n",
      "Puzzle;Creativity : 0.02256317689530686\n",
      "Music;Music & Video : 0.02256317689530686\n",
      "Entertainment;Pretend Play : 0.02256317689530686\n",
      "Casual;Education : 0.02256317689530686\n",
      "Board;Action & Adventure : 0.02256317689530686\n",
      "Video Players & Editors;Creativity : 0.01128158844765343\n",
      "Trivia;Education : 0.01128158844765343\n",
      "Travel & Local;Action & Adventure : 0.01128158844765343\n",
      "Tools;Education : 0.01128158844765343\n",
      "Strategy;Education : 0.01128158844765343\n",
      "Strategy;Creativity : 0.01128158844765343\n",
      "Strategy;Action & Adventure : 0.01128158844765343\n",
      "Simulation;Education : 0.01128158844765343\n",
      "Role Playing;Brain Games : 0.01128158844765343\n",
      "Racing;Pretend Play : 0.01128158844765343\n",
      "Puzzle;Education : 0.01128158844765343\n",
      "Parenting;Brain Games : 0.01128158844765343\n",
      "Music & Audio;Music & Video : 0.01128158844765343\n",
      "Lifestyle;Pretend Play : 0.01128158844765343\n",
      "Lifestyle;Education : 0.01128158844765343\n",
      "Health & Fitness;Education : 0.01128158844765343\n",
      "Health & Fitness;Action & Adventure : 0.01128158844765343\n",
      "Entertainment;Education : 0.01128158844765343\n",
      "Communication;Creativity : 0.01128158844765343\n",
      "Comics;Creativity : 0.01128158844765343\n",
      "Casual;Music & Video : 0.01128158844765343\n",
      "Card;Action & Adventure : 0.01128158844765343\n",
      "Books & Reference;Education : 0.01128158844765343\n",
      "Art & Design;Pretend Play : 0.01128158844765343\n",
      "Art & Design;Action & Adventure : 0.01128158844765343\n",
      "Arcade;Pretend Play : 0.01128158844765343\n",
      "Adventure;Education : 0.01128158844765343\n",
      "\n",
      "\n",
      "-Android Apps Common Categories-\n",
      "\n",
      "\n",
      "FAMILY : 18.907942238267147\n",
      "GAME : 9.724729241877256\n",
      "TOOLS : 8.461191335740072\n",
      "BUSINESS : 4.591606498194946\n",
      "LIFESTYLE : 3.9034296028880866\n",
      "PRODUCTIVITY : 3.892148014440433\n",
      "FINANCE : 3.7003610108303246\n",
      "MEDICAL : 3.531137184115524\n",
      "SPORTS : 3.395758122743682\n",
      "PERSONALIZATION : 3.3167870036101084\n",
      "COMMUNICATION : 3.2378158844765346\n",
      "HEALTH_AND_FITNESS : 3.0798736462093865\n",
      "PHOTOGRAPHY : 2.944494584837545\n",
      "NEWS_AND_MAGAZINES : 2.7978339350180503\n",
      "SOCIAL : 2.6624548736462095\n",
      "TRAVEL_AND_LOCAL : 2.33528880866426\n",
      "SHOPPING : 2.2450361010830324\n",
      "BOOKS_AND_REFERENCE : 2.1435018050541514\n",
      "DATING : 1.861462093862816\n",
      "VIDEO_PLAYERS : 1.7937725631768955\n",
      "MAPS_AND_NAVIGATION : 1.3989169675090252\n",
      "FOOD_AND_DRINK : 1.2409747292418771\n",
      "EDUCATION : 1.1620036101083033\n",
      "ENTERTAINMENT : 0.9589350180505415\n",
      "LIBRARIES_AND_DEMO : 0.9363718411552346\n",
      "AUTO_AND_VEHICLES : 0.9250902527075812\n",
      "HOUSE_AND_HOME : 0.8235559566787004\n",
      "WEATHER : 0.8009927797833934\n",
      "EVENTS : 0.7107400722021661\n",
      "PARENTING : 0.6543321299638989\n",
      "ART_AND_DESIGN : 0.631768953068592\n",
      "COMICS : 0.6204873646209386\n",
      "BEAUTY : 0.5979241877256317\n"
     ]
    }
   ],
   "source": [
    "#bulding a frequency table \n",
    "\n",
    "def freq_table(dataset, index):\n",
    "    \n",
    "    frequency_table = {}\n",
    "    \n",
    "    for app in dataset[1:]:\n",
    "        genre = app[index]\n",
    "        \n",
    "        if genre in frequency_table:\n",
    "            frequency_table[genre] += 1\n",
    "        else:\n",
    "            frequency_table[genre] = 1\n",
    "    \n",
    "    for key in frequency_table:\n",
    "        frequency_table[key] = float((frequency_table[key]/len(dataset))*100)\n",
    "    \n",
    "    return frequency_table\n",
    "\n",
    "def display_table(dataset, index):\n",
    "    table = freq_table(dataset, index)\n",
    "    table_display = []\n",
    "    for key in table:\n",
    "        key_val_as_tuple = (table[key], key)\n",
    "        table_display.append(key_val_as_tuple)\n",
    "\n",
    "    table_sorted = sorted(table_display, reverse = True)\n",
    "    for entry in table_sorted:\n",
    "        print(entry[1], ':', entry[0])\n",
    "\n",
    "\n",
    "print('-iOS Apps Common Genres-')\n",
    "print('\\n')\n",
    "genres_apple = display_table(a_apps_free, 11)\n",
    "print('\\n')\n",
    "print('-Android Apps Common Genres-')\n",
    "print('\\n')\n",
    "genres_google = display_table(g_apps_free, 9)\n",
    "print('\\n')\n",
    "print('-Android Apps Common Categories-')\n",
    "print('\\n')\n",
    "category_google = display_table(g_apps_free, 1)\n"
   ]
  },
  {
   "cell_type": "markdown",
   "metadata": {},
   "source": [
    "### 7. Answering the questions raised\n",
    "\n",
    "#### Analyzing the frequency table generated from the Category and Genres column of the Google Play Store dataset.\n",
    "\n",
    "\n",
    "- 7.1 What are the most common genres?\n",
    "\n",
    "\n",
    "**Answer** \n",
    "\n",
    "5 most common Android Apps categories percentages (%):\n",
    "\n",
    "Family : 18.9\n",
    "\n",
    "Game : 9.72\n",
    "\n",
    "Tools : 8.46\n",
    "\n",
    "Business : 4.59\n",
    "\n",
    "Lifestyle : 3.90\n",
    "\n",
    "\n",
    "- 7.2 What other patterns do you see?\n",
    "\n",
    "\n",
    "**Answer** \n",
    "\n",
    "1. Health related apps are in 8th and 12th most commons;\n",
    "2. Business related apps are in 4th, 6th and 7th most commons; \n",
    "3. Global occurrence related apps - Weather (0.8%) and Events (0.71%) - are in most low frequency.\n",
    "\n",
    "\n",
    "\n",
    "#### Analyzing the frequency table generated from the Genre column of the Apple Store dataset.\n",
    "\n",
    "\n",
    "- 7.3 Compare the patterns you see for the Google Play Store market with those you saw for the Apple Store market.\n",
    "\n",
    "\n",
    "**Answer** \n",
    "\n",
    "5 most common iOS Apps genres percentages (%):\n",
    "\n",
    "Games : 58.13\n",
    "\n",
    "Entertainment : 7.88\n",
    "\n",
    "Photo & Video : 4.96\n",
    "\n",
    "Education : 3.66\n",
    "\n",
    "Social Networking : 3.26\n",
    "\n",
    "In this sense, Android Apps seems more curvated to learning and productivity purposes and iOS Apps is more proximily of entertaiment and media content.    \n",
    "\n",
    "- 7.4 Can you recommend an app profile based on what you found so far? Do the frequency tables you generated reveal the most frequent app genres or what genres have the most users?\n",
    "\n",
    "\n",
    "**Answer**\n",
    "\n",
    "No, cause we only generated frequency tables of most builded apps and others considerations must be taken, such as number of users, rating, content rating and installs.\n"
   ]
  },
  {
   "cell_type": "markdown",
   "metadata": {},
   "source": [
    "### 8. Analysing another indicators\n",
    "\n",
    "As we saw above, others considerations must be taken. For this, below we'll analyse two attraction indicators: number of intalls and rating or reviews. Its give us more precision when analyse apps genres and how genre is more installed and better evaluated, that is, which genre of apps are most observated, requested, utilized and provides better user experiences.\n",
    "\n",
    "**Obs. 1:** Apple Store Apps dataset not have direct information about number of apps installed. Therefore, we use the total of ratings per account user.\n",
    "\n",
    "**Obs. 2:** Google Play Store Apps dataset not have a consistent data about ratings, cause many entries in this how is Not a Number - NaN, then we use the total of Reviews per app category."
   ]
  },
  {
   "cell_type": "code",
   "execution_count": 111,
   "metadata": {},
   "outputs": [
    {
     "name": "stdout",
     "output_type": "stream",
     "text": [
      "iOS apps ratings per genre:\n",
      "\n",
      "\n",
      "{'Photo & Video': 28442, 'Games': 22813, 'Music': 57327, 'Social Networking': 71548, 'Reference': 74942, 'Health & Fitness': 23298, 'Weather': 52280, 'Utilities': 18684, 'Travel': 28244, 'Shopping': 26920, 'News': 21248, 'Navigation': 86090, 'Lifestyle': 16486, 'Entertainment': 14030, 'Food & Drink': 33334, 'Sports': 23009, 'Book': 39758, 'Finance': 31468, 'Education': 7004, 'Productivity': 21028, 'Business': 7491, 'Catalogs': 4004, 'Medical': 612}\n"
     ]
    }
   ],
   "source": [
    "#1. using a frequence table technique\n",
    "\n",
    "def genre_freq_table(dataset, index):\n",
    "    \n",
    "    frequency_table = {}\n",
    "    \n",
    "    for app in dataset[1:]:\n",
    "        genre = app[index]\n",
    "        \n",
    "        if genre in frequency_table:\n",
    "            frequency_table[genre] += 1\n",
    "        else:\n",
    "            frequency_table[genre] = 1\n",
    "    \n",
    "    return frequency_table\n",
    "\n",
    "genre_apple = genre_freq_table(a_apps_free, 11) #isolating app of each genre (prime genre - column 11)\n",
    "\n",
    "#2. number of installs per genre\n",
    "\n",
    "install_a = {}\n",
    "\n",
    "for a_genre in genre_apple: #1st iterate(main loop)\n",
    "    total_genre = 0 #store the sum of user ratings(reviews)\n",
    "    len_genre = 0 #store the number of apps specific to each genre\n",
    "    for a_app in a_apps_free: #2nd iterate (nested loop)\n",
    "        genre_app = a_app[11]\n",
    "        if genre_app == a_genre: #condition: genre in a_apps_free == genre in genre_apple(freq_table)\n",
    "            a_n_ratings = float(a_app[5]) #a_apps[5] = rating_count_tot(proxy)\n",
    "            total_genre += a_n_ratings #sum up users reviews of each genre\n",
    "            len_genre += 1\n",
    "    \n",
    "    avg_ratings = total_genre/len_genre\n",
    "    install_a[a_genre] = round(avg_ratings)\n",
    "    \n",
    "\n",
    "    \n",
    "print('iOS apps ratings per genre:')\n",
    "print('\\n')\n",
    "print(install_a)\n"
   ]
  },
  {
   "cell_type": "code",
   "execution_count": 117,
   "metadata": {},
   "outputs": [
    {
     "data": {
      "image/png": "[encoded data removed]",
      "text/plain": [
       "<Figure size 576x576 with 1 Axes>"
      ]
     },
     "metadata": {
      "needs_background": "light"
     },
     "output_type": "display_data"
    }
   ],
   "source": [
    "# using visualizations with matplotlib \n",
    "\n",
    "# 1. import module\n",
    "import numpy as np\n",
    "import matplotlib.pyplot as plt\n",
    "\n",
    "# 2. defining a function to better visualizations in all datasets cases\n",
    "def visu_gen(dataset, limit, title, x_label, y_label):\n",
    "\n",
    "# 3. attributing referred objects\n",
    "    group_data = list(dataset.values())\n",
    "    group_names = list(dataset.keys())\n",
    "    group_mean = np.mean(group_data)\n",
    "\n",
    "# 4. dimensioning graphics\n",
    "    fig, ax = plt.subplots(figsize=(8, 8))\n",
    "    ax.barh(group_names, group_data)\n",
    "    labels = ax.get_xticklabels()\n",
    "    plt.setp(labels, rotation=45, horizontalalignment='right')\n",
    "\n",
    "# 5. add a vertical average line\n",
    "    ax.axvline(group_mean, ls='--', color='r')\n",
    "\n",
    "# 6. atribuate title and labels\n",
    "    ax.title.set(y=1.05)\n",
    "    ax.set(xlim=[0, limit], xlabel= x_label , ylabel= y_label,\n",
    "            title= title)\n",
    "    \n",
    "    plt.plot()\n",
    "\n",
    "\n",
    "visu_gen(install_a, 100000, 'iOS Apps ratings per genre', 'Total users ratings', 'Genre')"
   ]
  },
  {
   "cell_type": "code",
   "execution_count": 105,
   "metadata": {},
   "outputs": [
    {
     "name": "stdout",
     "output_type": "stream",
     "text": [
      "iOS Apps installs per genre:\n",
      "\n",
      "\n",
      "{'ART_AND_DESIGN': 1986335, 'AUTO_AND_VEHICLES': 647318, 'BEAUTY': 513152, 'BOOKS_AND_REFERENCE': 8767812, 'BUSINESS': 1712290, 'COMICS': 817657, 'COMMUNICATION': 38456119, 'DATING': 854029, 'EDUCATION': 1833495, 'ENTERTAINMENT': 11640706, 'EVENTS': 253542, 'FINANCE': 1387692, 'FOOD_AND_DRINK': 1924898, 'HEALTH_AND_FITNESS': 4188822, 'HOUSE_AND_HOME': 1331541, 'LIBRARIES_AND_DEMO': 638504, 'LIFESTYLE': 1437816, 'GAME': 15588016, 'FAMILY': 3695642, 'MEDICAL': 120551, 'SOCIAL': 23253652, 'SHOPPING': 7036877, 'PHOTOGRAPHY': 17840110, 'SPORTS': 3638640, 'TRAVEL_AND_LOCAL': 13984078, 'TOOLS': 10801391, 'PERSONALIZATION': 5201483, 'PRODUCTIVITY': 16787331, 'PARENTING': 542604, 'WEATHER': 5074486, 'VIDEO_PLAYERS': 24727872, 'NEWS_AND_MAGAZINES': 9549178, 'MAPS_AND_NAVIGATION': 4056942}\n"
     ]
    },
    {
     "data": {
      "image/png": "[encoded data removed]",
      "text/plain": [
       "<Figure size 576x576 with 1 Axes>"
      ]
     },
     "metadata": {
      "needs_background": "light"
     },
     "output_type": "display_data"
    }
   ],
   "source": [
    "#1. using a frequence table technique\n",
    "\n",
    "category_google = genre_freq_table(g_apps_free, 1) #isolating app of each genre (prime genre - column 1)\n",
    "\n",
    "#2. number of installs per category\n",
    "\n",
    "install_g = {}\n",
    "\n",
    "for category in category_google:\n",
    "    total_category = 0\n",
    "    len_category = 0\n",
    "    for g_apps in g_apps_free:\n",
    "        category_app = g_apps[1]\n",
    "        if category_app == category:\n",
    "            n_installs = g_apps[5]\n",
    "            n_installs = n_installs.replace(',','') #using replace built-in to fix data entries\n",
    "            n_installs = n_installs.replace('+','')\n",
    "            n_installs = int(n_installs)\n",
    "            total_category += n_installs\n",
    "            len_category += 1\n",
    "    \n",
    "    avg_install = total_category/len_category\n",
    "    install_g[category] = round(avg_install)\n",
    "\n",
    "    \n",
    "print('iOS Apps installs per genre:')\n",
    "print('\\n')\n",
    "print(install_g)\n",
    "\n",
    "visu_gen(install_g, 40000000, 'Android Apps installs', 'Total installs (in tens of millions)', 'Category')\n"
   ]
  },
  {
   "cell_type": "code",
   "execution_count": 106,
   "metadata": {},
   "outputs": [
    {
     "name": "stdout",
     "output_type": "stream",
     "text": [
      "Android reviews per category:\n",
      "\n",
      "\n",
      "{'ART_AND_DESIGN': 24699, 'AUTO_AND_VEHICLES': 14140, 'BEAUTY': 7476, 'BOOKS_AND_REFERENCE': 87995, 'BUSINESS': 24240, 'COMICS': 42586, 'COMMUNICATION': 995608, 'DATING': 21953, 'EDUCATION': 56293, 'ENTERTAINMENT': 301752, 'EVENTS': 2556, 'FINANCE': 38536, 'FOOD_AND_DRINK': 57479, 'HEALTH_AND_FITNESS': 78095, 'HOUSE_AND_HOME': 26435, 'LIBRARIES_AND_DEMO': 10926, 'LIFESTYLE': 33922, 'GAME': 683524, 'FAMILY': 113143, 'MEDICAL': 3730, 'SOCIAL': 965831, 'SHOPPING': 223887, 'PHOTOGRAPHY': 404081, 'SPORTS': 116939, 'TRAVEL_AND_LOCAL': 129484, 'TOOLS': 305733, 'PERSONALIZATION': 181122, 'PRODUCTIVITY': 160635, 'PARENTING': 16379, 'WEATHER': 171251, 'VIDEO_PLAYERS': 425350, 'NEWS_AND_MAGAZINES': 93088, 'MAPS_AND_NAVIGATION': 142860}\n",
      "\n",
      "\n"
     ]
    },
    {
     "data": {
      "image/png": "[encoded data removed]",
      "text/plain": [
       "<Figure size 576x576 with 1 Axes>"
      ]
     },
     "metadata": {
      "needs_background": "light"
     },
     "output_type": "display_data"
    },
    {
     "name": "stdout",
     "output_type": "stream",
     "text": [
      "\n",
      "\n",
      "iOS ratings per genre:\n",
      "\n",
      "\n",
      "{'Photo & Video': 3.9, 'Games': 4.0, 'Music': 3.9, 'Social Networking': 3.6, 'Reference': 3.7, 'Health & Fitness': 3.8, 'Weather': 3.5, 'Utilities': 3.5, 'Travel': 3.5, 'Shopping': 4.0, 'News': 3.2, 'Navigation': 3.8, 'Lifestyle': 3.4, 'Entertainment': 3.5, 'Food & Drink': 3.6, 'Sports': 3.1, 'Book': 3.1, 'Finance': 3.4, 'Education': 3.6, 'Productivity': 4.0, 'Business': 4.0, 'Catalogs': 4.1, 'Medical': 3.0}\n",
      "\n",
      "\n"
     ]
    },
    {
     "data": {
      "image/png": "[encoded data removed]",
      "text/plain": [
       "<Figure size 576x576 with 1 Axes>"
      ]
     },
     "metadata": {
      "needs_background": "light"
     },
     "output_type": "display_data"
    }
   ],
   "source": [
    "#1. to gathering ratings per iOS Apps genre  \n",
    "\n",
    "ratings_a = {}\n",
    "\n",
    "for a_genre in genre_apple: #1st iterate(main loop)\n",
    "    total_genre = 0 #store the sum of user ratings\n",
    "    len_genre = 0 #store the number of apps specific to each genre\n",
    "    for a_app in a_apps_free: #2nd iterate (nested loop)\n",
    "        genre_app = a_app[11]\n",
    "        if genre_app == a_genre: #condition: genre in a_apps_free == genre in genre_apple(freq_table)\n",
    "            a_ratings = float(a_app[7]) #a_apps[7] = user_rating(proxy)\n",
    "            total_genre += a_ratings #sum up user rating of each genre\n",
    "            len_genre += 1\n",
    "    \n",
    "    avg_u_ratings = total_genre/len_genre\n",
    "    ratings_a[a_genre] = round(avg_u_ratings, 1)\n",
    "    \n",
    "#2. to gathering reviews per Android Apps category\n",
    "\n",
    "reviews_g = {}\n",
    "\n",
    "for category in category_google:\n",
    "    total_category = 0\n",
    "    len_category = 0\n",
    "    for g_apps in g_apps_free:\n",
    "        category_app = g_apps[1]\n",
    "        if category_app == category:\n",
    "            n_reviews = g_apps[3]\n",
    "            total_category += float(n_reviews)\n",
    "            len_category += 1\n",
    "            \n",
    "    \n",
    "    avg_reviews = total_category/len_category\n",
    "    reviews_g[category] = round(avg_reviews)\n",
    "\n",
    "\n",
    "print('Android reviews per category:')\n",
    "print('\\n')\n",
    "print(reviews_g)\n",
    "print('\\n')\n",
    "visu_gen(reviews_g, 1100000, 'Android Apps reviews per category', 'Total reviews', 'Category')\n",
    "print('\\n')\n",
    "print('iOS ratings per genre:')\n",
    "print('\\n')\n",
    "print(ratings_a)\n",
    "print('\\n')\n",
    "visu_gen(ratings_a, 5.0, 'iOS Apps ratings per genre', 'Average ratings', 'Genre')"
   ]
  },
  {
   "cell_type": "markdown",
   "metadata": {},
   "source": [
    "### 9. Conclusion \n",
    "\n",
    "After we consider other parameteres besides the apps quantity percentage per genre, such as User Conversion (total of installs) and Usability (reviews and user ratings) indicators, the decision making about apps building is better guided. Overall, the genres that did demonstrated most high or above average numbers in all evaluated indicators seem to show solid behavior in their positions.\n",
    "\n",
    "9.1 In **Google Play Store dataset analysis**, **Games** and **Tools** categories demonstrate good behavior, such as:\n",
    "\n",
    "**Games**: \n",
    "\n",
    "- **2nd most common** category (9.72% of total), more than **15 milions of installs (120% above average)** and **3rd most reviewed** (683.524 reviews);   \n",
    "\n",
    "**Tools**: \n",
    "\n",
    "- **3rd most common** category (8.46% of total), more than **10 milions of installs (53,4% above average)** and **6th most reviewed** (305.733 reviews);\n",
    "\n",
    "\n",
    "9.2 In **Apple Store dataset analysis**, **Games** and **Social Networking** categories demonstrate good behavior, cause:\n",
    "\n",
    "**Games**: \n",
    "\n",
    "- **1sf most common** genre (58.13% of total), more than **22.813 of reviews (27.5% below average)** and **2nd top rated** (average 4.0);   \n",
    "\n",
    "**Social Networking**: \n",
    "\n",
    "- **5th most common** genre (3.26% of total), **3rd most reviewed (127% above average)** and **on average between iOS Apps** (average 3.6)."
   ]
  },
  {
   "cell_type": "markdown",
   "metadata": {},
   "source": [
    "### 10. Final considerations\n",
    "\n",
    "We hope that companies and anyone that want for guidance use this data analysis to help their insights and developments. Even though this article have been developed and written by just a person, all technical instructions, sources and recomendations was absorved at a pleasurably study journey during the Python for Data Science: Fundamentals course, powered by Dataquest.io company.    \n",
    "\n",
    "For any questions, suggestions or corrections, send me a mail or message that I'll answer with pleasure!\n",
    "\n",
    "e-mail: osmancesar.mr@gmail.com\n",
    "\n",
    "linkedin: https://www.linkedin.com/in/osman-rodrigues/\n",
    "\n",
    "Github: https://github.com/OsmanRodrigues"
   ]
  }
 ],
 "metadata": {
  "kernelspec": {
   "display_name": "Python 3",
   "language": "python",
   "name": "python3"
  },
  "language_info": {
   "codemirror_mode": {
    "name": "ipython",
    "version": 3
   },
   "file_extension": ".py",
   "mimetype": "text/x-python",
   "name": "python",
   "nbconvert_exporter": "python",
   "pygments_lexer": "ipython3",
   "version": "3.7.4"
  }
 },
 "nbformat": 4,
 "nbformat_minor": 2
}
